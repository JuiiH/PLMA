{
  "nbformat": 4,
  "nbformat_minor": 0,
  "metadata": {
    "colab": {
      "provenance": []
    },
    "kernelspec": {
      "name": "python3",
      "display_name": "Python 3"
    },
    "language_info": {
      "name": "python"
    }
  },
  "cells": [
    {
      "cell_type": "code",
      "source": [
        "import numpy as np\n",
        "print('將為您計算平年閏年...')\n",
        "print('請輸入年份:')\n",
        "x=eval(input())\n",
        "if x<0 or (x%1)!=0 :\n",
        "  print('請輸入合理年份(正整數)')\n",
        "elif x>=0 and x<=1582 :\n",
        "  if (x%4) == 0 :\n",
        "    print(x,'年為 閏年')\n",
        "  else :\n",
        "    print(x,'年為 平年')\n",
        "else :\n",
        "  if (x%4) == 0 :\n",
        "    if (x%400) == 0 :\n",
        "      print(x,'年為 閏年')\n",
        "    elif (x%100) == 0 :\n",
        "      print(x,'年為 平年')\n",
        "    else :\n",
        "      print(x,'年為 閏年')\n",
        "  else :\n",
        "    print(x,'年為 平年')"
      ],
      "metadata": {
        "colab": {
          "base_uri": "https://localhost:8080/"
        },
        "id": "DOHFHH8Ky9nB",
        "outputId": "f7a8fdd4-d910-4b0a-8b95-db286085ad1c"
      },
      "execution_count": 18,
      "outputs": [
        {
          "output_type": "stream",
          "name": "stdout",
          "text": [
            "將為您計算平年閏年...\n",
            "請輸入年份:\n",
            "1800\n",
            "1800 年為 平年\n"
          ]
        }
      ]
    }
  ]
}