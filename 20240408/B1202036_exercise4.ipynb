{
  "nbformat": 4,
  "nbformat_minor": 0,
  "metadata": {
    "colab": {
      "provenance": []
    },
    "kernelspec": {
      "name": "python3",
      "display_name": "Python 3"
    },
    "language_info": {
      "name": "python"
    }
  },
  "cells": [
    {
      "cell_type": "code",
      "execution_count": 2,
      "metadata": {
        "colab": {
          "base_uri": "https://localhost:8080/"
        },
        "id": "LJkduAX2kYkh",
        "outputId": "a0dd8db8-537e-496a-d2fd-1b840053da18"
      },
      "outputs": [
        {
          "output_type": "stream",
          "name": "stdout",
          "text": [
            "將為您計算BMI...\n",
            "請輸入身高(cm):\n",
            "172\n",
            "請輸入體重(kg):\n",
            "70\n",
            "您的BMI為:  23.661438615467823\n",
            "體位：適中\n"
          ]
        }
      ],
      "source": [
        "print('將為您計算BMI...')\n",
        "print('請輸入身高(cm):')\n",
        "h=eval(input())\n",
        "print('請輸入體重(kg):')\n",
        "w=eval(input())\n",
        "bmi=w/((h/100)**2)\n",
        "print('您的BMI為: ',bmi)\n",
        "if bmi<18.5 :\n",
        "  print('體位：過輕')\n",
        "elif bmi>=18.5 and bmi<24 :\n",
        "  print('體位：適中')\n",
        "elif bmi>=24 and bmi<27 :\n",
        "  print('體位：過重')\n",
        "else:\n",
        "  print('體位：肥胖')"
      ]
    },
    {
      "cell_type": "code",
      "source": [
        "print('請輸入第一個數字：')\n",
        "a=eval(input())\n",
        "print('請輸入運算符號(+ - * /)：')\n",
        "op=input()\n",
        "print('請輸入第二個數字：')\n",
        "b=eval(input())\n",
        "if op == '+' :\n",
        "  result = a+b\n",
        "elif op == '-' :\n",
        "  result = a-b\n",
        "elif op == '*' :\n",
        "  result = a*b\n",
        "elif op == '/' :\n",
        "  result = a/b\n",
        "else :\n",
        "  print('運算符號須為：+ - * /')\n",
        "print(result)"
      ],
      "metadata": {
        "colab": {
          "base_uri": "https://localhost:8080/"
        },
        "id": "Tn4fJ8whnQ0p",
        "outputId": "a57b30b1-b2f7-47b3-c93f-8a59d473d6a7"
      },
      "execution_count": 11,
      "outputs": [
        {
          "output_type": "stream",
          "name": "stdout",
          "text": [
            "請輸入第一個數字：\n",
            "5\n",
            "請輸入運算符號(+ - * /)：\n",
            "/\n",
            "請輸入第二個數字：\n",
            "2\n",
            "2.5\n"
          ]
        }
      ]
    }
  ]
}