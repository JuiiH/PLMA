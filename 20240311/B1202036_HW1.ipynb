{
  "nbformat": 4,
  "nbformat_minor": 0,
  "metadata": {
    "colab": {
      "provenance": []
    },
    "kernelspec": {
      "name": "python3",
      "display_name": "Python 3"
    },
    "language_info": {
      "name": "python"
    }
  },
  "cells": [
    {
      "cell_type": "code",
      "execution_count": 1,
      "metadata": {
        "colab": {
          "base_uri": "https://localhost:8080/"
        },
        "id": "FA8BY8DXv8nn",
        "outputId": "f03f6116-4bf8-4c43-949e-fc464136ab93"
      },
      "outputs": [
        {
          "output_type": "stream",
          "name": "stdout",
          "text": [
            "I am a student\n"
          ]
        }
      ],
      "source": [
        "print(\"I am a student\")"
      ]
    },
    {
      "cell_type": "code",
      "source": [
        "import numpy as np\n",
        "print('將為您計算A,B兩點距離...')\n",
        "print('請輸入A點x座標:')\n",
        "x1=eval(input())\n",
        "print('請輸入A點y座標:')\n",
        "y1=eval(input())\n",
        "print('您所輸入的A點座標為: (',x1,',',y1,')')\n",
        "print('請輸入B點x座標:')\n",
        "x2=eval(input())\n",
        "print('請輸入B點y座標:')\n",
        "y2=eval(input())\n",
        "print('您所輸入的B點座標為: (',x2,',',y2,')')\n",
        "d=np.sqrt((x2 - x1)**2 + (y2 - y1)**2)\n",
        "print('A,B兩點距離為: ',d)"
      ],
      "metadata": {
        "colab": {
          "base_uri": "https://localhost:8080/"
        },
        "id": "DOHFHH8Ky9nB",
        "outputId": "e363d3dd-dbea-4dea-ef47-75e918cc9266"
      },
      "execution_count": 13,
      "outputs": [
        {
          "output_type": "stream",
          "name": "stdout",
          "text": [
            "將為您計算A,B兩點距離...\n",
            "請輸入A點x座標:\n",
            "1.1\n",
            "請輸入A點y座標:\n",
            "1.2\n",
            "您所輸入的A點座標為: ( 1.1 , 1.2 )\n",
            "請輸入B點x座標:\n",
            "1.3\n",
            "請輸入B點y座標:\n",
            "1.4\n",
            "您所輸入的B點座標為: ( 1.3 , 1.4 )\n",
            "A,B兩點距離為:  0.28284271247461895\n"
          ]
        }
      ]
    },
    {
      "cell_type": "code",
      "source": [
        "print('將為您計算BMI...')\n",
        "print('請輸入身高(cm):')\n",
        "h=eval(input())\n",
        "print('請輸入體重(kg):')\n",
        "w=eval(input())\n",
        "bmi=w/((h/100)**2)\n",
        "print('您的BMI為: ',bmi)"
      ],
      "metadata": {
        "colab": {
          "base_uri": "https://localhost:8080/"
        },
        "id": "ZJptJTAr4XF8",
        "outputId": "b29d9bb4-00ab-4b62-a936-792f1f1fd376"
      },
      "execution_count": 14,
      "outputs": [
        {
          "output_type": "stream",
          "name": "stdout",
          "text": [
            "將為您計算BMI...\n",
            "請輸入身高(cm):\n",
            "188.9\n",
            "請輸入體重(kg):\n",
            "53.9\n",
            "您的BMI為:  15.105143287277125\n"
          ]
        }
      ]
    }
  ]
}