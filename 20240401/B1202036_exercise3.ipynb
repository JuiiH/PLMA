{
  "nbformat": 4,
  "nbformat_minor": 0,
  "metadata": {
    "colab": {
      "provenance": []
    },
    "kernelspec": {
      "name": "python3",
      "display_name": "Python 3"
    },
    "language_info": {
      "name": "python"
    }
  },
  "cells": [
    {
      "cell_type": "code",
      "execution_count": 14,
      "metadata": {
        "colab": {
          "base_uri": "https://localhost:8080/"
        },
        "id": "LJkduAX2kYkh",
        "outputId": "253bef42-695c-44d3-d671-874898beeaeb"
      },
      "outputs": [
        {
          "output_type": "stream",
          "name": "stdout",
          "text": [
            "字典三平均分數： 88.33333333333333\n",
            "{'姓名': '賴宏瑋', '性別': '男', '學號': 'M1129020'}\n",
            "字典四平均分數： 95.0\n",
            "{'姓名': '許珈綺', '性別': '女', '學號': 'M1229001'}\n"
          ]
        }
      ],
      "source": [
        "import copy\n",
        "a={'姓名':'賴宏瑋','性別':'男','作業分數':[95,100,90]}\n",
        "b={'學號': 'M1129020'}\n",
        "a.update(b)\n",
        "c=copy.deepcopy(a)\n",
        "#print(c)\n",
        "d=copy.deepcopy(c)\n",
        "c['作業分數'][1]=80\n",
        "d['姓名']='許珈綺'\n",
        "d['性別']='女'\n",
        "d['學號']='M1229001'\n",
        "#print(d)\n",
        "score = c.pop('作業分數')\n",
        "#print(score)\n",
        "print('字典三平均分數：',sum(score)/len(score))\n",
        "print(c)\n",
        "score2 = d.pop('作業分數')\n",
        "#print(score2)\n",
        "print('字典四平均分數：',sum(score2)/len(score2))\n",
        "print(d)\n",
        "\n"
      ]
    },
    {
      "cell_type": "code",
      "source": [
        "a=[100,50,45,60,90,95,80,50]\n",
        "a.insert(0,88)\n",
        "a[2:5]={70,50}\n",
        "#print(a)\n",
        "a.remove(50)\n",
        "#print(a)\n",
        "sum=a.pop(0)+a.pop(-1)\n",
        "print(sum)\n",
        "print(a)\n"
      ],
      "metadata": {
        "colab": {
          "base_uri": "https://localhost:8080/"
        },
        "id": "Tn4fJ8whnQ0p",
        "outputId": "7c4828e3-a0a3-4784-b678-18072968d72a"
      },
      "execution_count": 31,
      "outputs": [
        {
          "output_type": "stream",
          "name": "stdout",
          "text": [
            "138\n",
            "[100, 70, 90, 95, 80]\n"
          ]
        }
      ]
    },
    {
      "cell_type": "code",
      "source": [
        "m = 347//3\n",
        "#print(m)\n",
        "f = 347%3\n",
        "#print(f)\n",
        "print(m**f)"
      ],
      "metadata": {
        "colab": {
          "base_uri": "https://localhost:8080/"
        },
        "id": "qeLaJ2BIvFR3",
        "outputId": "bebe25ce-6593-4dc7-fe64-ccc90cfa0fd0"
      },
      "execution_count": 27,
      "outputs": [
        {
          "output_type": "stream",
          "name": "stdout",
          "text": [
            "13225\n"
          ]
        }
      ]
    }
  ]
}