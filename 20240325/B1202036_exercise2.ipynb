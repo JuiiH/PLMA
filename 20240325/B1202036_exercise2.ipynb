{
  "nbformat": 4,
  "nbformat_minor": 0,
  "metadata": {
    "colab": {
      "provenance": []
    },
    "kernelspec": {
      "name": "python3",
      "display_name": "Python 3"
    },
    "language_info": {
      "name": "python"
    }
  },
  "cells": [
    {
      "cell_type": "code",
      "execution_count": 15,
      "metadata": {
        "colab": {
          "base_uri": "https://localhost:8080/"
        },
        "id": "LJkduAX2kYkh",
        "outputId": "b5e052bc-c943-498d-b75b-89362fd8a8a5"
      },
      "outputs": [
        {
          "output_type": "stream",
          "name": "stdout",
          "text": [
            "{'姓名': '洪睿浥', '性別': '男', '作業分數': [100, 100, 90], 'Student ID': 'B1202036'}\n",
            "作業平均分數： 96.66666666666667\n"
          ]
        }
      ],
      "source": [
        "a={'姓名':'洪睿浥','性別':'男','作業分數':[90,95,100,90]}\n",
        "b={'Student ID': 'B1202036'}\n",
        "a.update(b)\n",
        "a['作業分數'][1]=100\n",
        "del a['作業分數'][0]\n",
        "print(a)\n",
        "c=a['作業分數']\n",
        "print('作業平均分數：',sum(c)/len(c))\n"
      ]
    }
  ]
}