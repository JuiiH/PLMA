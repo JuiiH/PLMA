{
  "nbformat": 4,
  "nbformat_minor": 0,
  "metadata": {
    "colab": {
      "provenance": []
    },
    "kernelspec": {
      "name": "python3",
      "display_name": "Python 3"
    },
    "language_info": {
      "name": "python"
    }
  },
  "cells": [
    {
      "cell_type": "code",
      "source": [
        "\n",
        "\n",
        "\n",
        "def christmas_tree(rows):\n",
        "    for i in range(rows):\n",
        "        print(' ' * (rows - i - 1) + '*' * (2 * i + 1))\n",
        "\n",
        "h = int(input('聖誕樹層數：'))\n",
        "christmas_tree(h)\n",
        "c='***'\n",
        "d=' ' * (h-2) +c\n",
        "for i in range(5):\n",
        "  print(d)"
      ],
      "metadata": {
        "colab": {
          "base_uri": "https://localhost:8080/"
        },
        "id": "DOHFHH8Ky9nB",
        "outputId": "1752c244-71d2-43a1-d98e-14b730fa4d01"
      },
      "execution_count": 8,
      "outputs": [
        {
          "output_type": "stream",
          "name": "stdout",
          "text": [
            "聖誕樹層數：9\n",
            "        *\n",
            "       ***\n",
            "      *****\n",
            "     *******\n",
            "    *********\n",
            "   ***********\n",
            "  *************\n",
            " ***************\n",
            "*****************\n",
            "       ***\n",
            "       ***\n",
            "       ***\n",
            "       ***\n",
            "       ***\n"
          ]
        }
      ]
    },
    {
      "cell_type": "code",
      "source": [
        "print('將為您計算BMI...')\n",
        "print('請輸入身高(cm):')\n",
        "try:\n",
        "  h=eval(input())\n",
        "except:\n",
        "  print('輸入內容錯誤')\n",
        "print('請輸入體重(kg):')\n",
        "try:\n",
        "  w=eval(input())\n",
        "except:\n",
        "  print('輸入內容錯誤')\n",
        "\n",
        "def bmi(h, w):\n",
        "    bmi=w/((h/100)**2)\n",
        "    return bmi\n",
        "b= bmi(h, w)\n",
        "print('您的BMI為: ',b)\n",
        "if b<18.5 :\n",
        "  print('體位：過輕')\n",
        "elif b>=18.5 and b<24 :\n",
        "  print('體位：適中')\n",
        "elif b>=24 and b<27 :\n",
        "  print('體位：過重')\n",
        "else:\n",
        "  print('體位：肥胖')"
      ],
      "metadata": {
        "colab": {
          "base_uri": "https://localhost:8080/"
        },
        "id": "iY4eDdPCxylI",
        "outputId": "289a096b-439d-4e39-9dfe-c8a308184312"
      },
      "execution_count": 13,
      "outputs": [
        {
          "output_type": "stream",
          "name": "stdout",
          "text": [
            "將為您計算BMI...\n",
            "請輸入身高(cm):\n",
            "176\n",
            "請輸入體重(kg):\n",
            "a\n",
            "輸入內容錯誤\n",
            "您的BMI為:  23.243801652892564\n",
            "體位：適中\n"
          ]
        }
      ]
    }
  ]
}