{
  "nbformat": 4,
  "nbformat_minor": 0,
  "metadata": {
    "colab": {
      "provenance": []
    },
    "kernelspec": {
      "name": "python3",
      "display_name": "Python 3"
    },
    "language_info": {
      "name": "python"
    }
  },
  "cells": [
    {
      "cell_type": "code",
      "source": [
        "def christmas_tree(rows):\n",
        "    for i in range(rows):\n",
        "        print(' ' * (rows - i - 1) + '*' * (2 * i + 1))\n",
        "\n",
        "h = int(input('聖誕樹層數：'))\n",
        "if h >= 7 :\n",
        "  christmas_tree(h)\n",
        "  c='***'\n",
        "  d=' ' * (h-2) +c\n",
        "  for i in range(5):\n",
        "    print(d)\n",
        "else:\n",
        "  print('至少輸入七層')"
      ],
      "metadata": {
        "colab": {
          "base_uri": "https://localhost:8080/"
        },
        "id": "DOHFHH8Ky9nB",
        "outputId": "3c4c0f98-8d54-4fe1-b806-396c41f3b682"
      },
      "execution_count": 21,
      "outputs": [
        {
          "output_type": "stream",
          "name": "stdout",
          "text": [
            "聖誕樹層數：9\n",
            "        *\n",
            "       ***\n",
            "      *****\n",
            "     *******\n",
            "    *********\n",
            "   ***********\n",
            "  *************\n",
            " ***************\n",
            "*****************\n",
            "       ***\n",
            "       ***\n",
            "       ***\n",
            "       ***\n",
            "       ***\n"
          ]
        }
      ]
    },
    {
      "cell_type": "code",
      "source": [
        "try:\n",
        "  h=eval(input('身高(公分):'))\n",
        "  w=eval(input('體重:'))\n",
        "  def bmi(h, w):\n",
        "    bmi=w/((h/100)**2)\n",
        "    return bmi\n",
        "  b= bmi(h, w)\n",
        "  print('BMI:',b)\n",
        "  if b<18.5 :\n",
        "    print('體位：過輕')\n",
        "  elif b>=18.5 and b<24 :\n",
        "    print('體位：適中')\n",
        "  elif b>=24 and b<27 :\n",
        "    print('體位：過重')\n",
        "  else:\n",
        "    print('體位：肥胖')\n",
        "except:\n",
        "  print('輸入內容錯誤')\n",
        "\n",
        "\n"
      ],
      "metadata": {
        "colab": {
          "base_uri": "https://localhost:8080/"
        },
        "id": "iY4eDdPCxylI",
        "outputId": "b025b8c9-ad56-4332-bd94-d26874323ec8"
      },
      "execution_count": 24,
      "outputs": [
        {
          "output_type": "stream",
          "name": "stdout",
          "text": [
            "身高(公分):180\n",
            "體重:86\n",
            "BMI: 26.54320987654321\n",
            "體位：過重\n"
          ]
        }
      ]
    }
  ]
}