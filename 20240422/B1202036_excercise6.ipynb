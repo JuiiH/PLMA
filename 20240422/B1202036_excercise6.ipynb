{
  "nbformat": 4,
  "nbformat_minor": 0,
  "metadata": {
    "colab": {
      "provenance": []
    },
    "kernelspec": {
      "name": "python3",
      "display_name": "Python 3"
    },
    "language_info": {
      "name": "python"
    }
  },
  "cells": [
    {
      "cell_type": "code",
      "source": [
        "import numpy as np\n",
        "i =1\n",
        "j =1\n",
        "while i < 10:\n",
        "  j=1\n",
        "  while j < 10:\n",
        "    print(f'{i} x {j} =',end=' ')\n",
        "    print(i*j,end='\\t')\n",
        "    j=j+1\n",
        "  print('\\n')\n",
        "  i=i+1\n",
        "\n"
      ],
      "metadata": {
        "colab": {
          "base_uri": "https://localhost:8080/"
        },
        "id": "DOHFHH8Ky9nB",
        "outputId": "92fea7a6-9749-4fdf-ab8b-5bbbd3dda0ee"
      },
      "execution_count": 5,
      "outputs": [
        {
          "output_type": "stream",
          "name": "stdout",
          "text": [
            "1 x 1 = 1\t1 x 2 = 2\t1 x 3 = 3\t1 x 4 = 4\t1 x 5 = 5\t1 x 6 = 6\t1 x 7 = 7\t1 x 8 = 8\t1 x 9 = 9\t\n",
            "\n",
            "2 x 1 = 2\t2 x 2 = 4\t2 x 3 = 6\t2 x 4 = 8\t2 x 5 = 10\t2 x 6 = 12\t2 x 7 = 14\t2 x 8 = 16\t2 x 9 = 18\t\n",
            "\n",
            "3 x 1 = 3\t3 x 2 = 6\t3 x 3 = 9\t3 x 4 = 12\t3 x 5 = 15\t3 x 6 = 18\t3 x 7 = 21\t3 x 8 = 24\t3 x 9 = 27\t\n",
            "\n",
            "4 x 1 = 4\t4 x 2 = 8\t4 x 3 = 12\t4 x 4 = 16\t4 x 5 = 20\t4 x 6 = 24\t4 x 7 = 28\t4 x 8 = 32\t4 x 9 = 36\t\n",
            "\n",
            "5 x 1 = 5\t5 x 2 = 10\t5 x 3 = 15\t5 x 4 = 20\t5 x 5 = 25\t5 x 6 = 30\t5 x 7 = 35\t5 x 8 = 40\t5 x 9 = 45\t\n",
            "\n",
            "6 x 1 = 6\t6 x 2 = 12\t6 x 3 = 18\t6 x 4 = 24\t6 x 5 = 30\t6 x 6 = 36\t6 x 7 = 42\t6 x 8 = 48\t6 x 9 = 54\t\n",
            "\n",
            "7 x 1 = 7\t7 x 2 = 14\t7 x 3 = 21\t7 x 4 = 28\t7 x 5 = 35\t7 x 6 = 42\t7 x 7 = 49\t7 x 8 = 56\t7 x 9 = 63\t\n",
            "\n",
            "8 x 1 = 8\t8 x 2 = 16\t8 x 3 = 24\t8 x 4 = 32\t8 x 5 = 40\t8 x 6 = 48\t8 x 7 = 56\t8 x 8 = 64\t8 x 9 = 72\t\n",
            "\n",
            "9 x 1 = 9\t9 x 2 = 18\t9 x 3 = 27\t9 x 4 = 36\t9 x 5 = 45\t9 x 6 = 54\t9 x 7 = 63\t9 x 8 = 72\t9 x 9 = 81\t\n",
            "\n"
          ]
        }
      ]
    },
    {
      "cell_type": "code",
      "source": [
        "import random\n",
        "\n",
        "ans = random.sample(range(1, 10), 4)\n",
        "print('答案:',ans)\n",
        "\n",
        "\n",
        "i=0\n",
        "while(i<100):\n",
        "  print('請輸入四個數字（不重複):',end=' ')\n",
        "  inp_ori = input()\n",
        "  inp = list(inp_ori)\n",
        "  while(len(inp)!=4):\n",
        "    if(len(inp)<4):\n",
        "      print('輸入數字過少，請輸入四個數字（不重複):',end=' ')\n",
        "      inp_ori = input()\n",
        "      inp = list(inp_ori)\n",
        "      continue\n",
        "    else:\n",
        "      print('輸入數字過多，請輸入四個數字（不重複):',end=' ')\n",
        "      inp_ori = input()\n",
        "      inp = list(inp_ori)\n",
        "      continue\n",
        "  a=0\n",
        "  b=0\n",
        "  j=0\n",
        "  while j<4:\n",
        "\n",
        "    #print(inp[j],ans[j])\n",
        "    if int(inp[j])==int(ans[j]) :\n",
        "      a=a+1\n",
        "      #print(a)\n",
        "    elif int(inp[j]) in ans :\n",
        "      b=b+1\n",
        "      #print(b)\n",
        "\n",
        "    j=j+1\n",
        "  print(inp_ori,': ',a,'A',b,'B')\n",
        "  if a==4 :\n",
        "    print('答對了！，總共猜了',i+1,'次')\n",
        "    break\n",
        "\n",
        "  i=i+1\n",
        "if i == 100 and a != 4 :\n",
        "  print('已經猜錯一百次，下次再努力囉～')"
      ],
      "metadata": {
        "colab": {
          "base_uri": "https://localhost:8080/"
        },
        "id": "iY4eDdPCxylI",
        "outputId": "e594feea-4891-423b-ed82-ffd9c643c42d"
      },
      "execution_count": 23,
      "outputs": [
        {
          "output_type": "stream",
          "name": "stdout",
          "text": [
            "答案: [3, 9, 4, 1]\n",
            "請輸入四個數字（不重複): 12345\n",
            "輸入數字過多，請輸入四個數字（不重複): 1234\n",
            "1234 :  0 A 3 B\n",
            "請輸入四個數字（不重複): 4321\n",
            "4321 :  1 A 2 B\n",
            "請輸入四個數字（不重複): 5321\n",
            "5321 :  1 A 1 B\n",
            "請輸入四個數字（不重複): 3941\n",
            "3941 :  4 A 0 B\n",
            "答對了！，總共猜了 4 次\n"
          ]
        }
      ]
    },
    {
      "cell_type": "code",
      "source": [],
      "metadata": {
        "id": "u8eRWanV2PCQ"
      },
      "execution_count": null,
      "outputs": []
    }
  ]
}