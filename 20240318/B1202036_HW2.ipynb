{
  "nbformat": 4,
  "nbformat_minor": 0,
  "metadata": {
    "colab": {
      "provenance": []
    },
    "kernelspec": {
      "name": "python3",
      "display_name": "Python 3"
    },
    "language_info": {
      "name": "python"
    }
  },
  "cells": [
    {
      "cell_type": "code",
      "execution_count": null,
      "metadata": {
        "colab": {
          "base_uri": "https://localhost:8080/"
        },
        "id": "tx0DYl6gpMLk",
        "outputId": "e57e06cd-a3c3-4b50-cbd1-5fab94662c2a"
      },
      "outputs": [
        {
          "output_type": "stream",
          "name": "stdout",
          "text": [
            "第三個元素： A\n",
            "最後陣列內容： ['K', 'G', 'H', 'U']\n"
          ]
        }
      ],
      "source": [
        "a='C,B,A'\n",
        "b=['F','G','H']\n",
        "a=a.split(',')\n",
        "#print(a)\n",
        "c=a+b\n",
        "c[0]= 'K'\n",
        "#print(c)\n",
        "print('第三個元素：',c.pop(2))\n",
        "del c[1:3]\n",
        "c.append('U')\n",
        "print('最後陣列內容：',c)"
      ]
    },
    {
      "cell_type": "code",
      "source": [
        "print('請輸入八位數:')\n",
        "w=str(input())\n",
        "print('第五個數字：',w[4])"
      ],
      "metadata": {
        "colab": {
          "base_uri": "https://localhost:8080/"
        },
        "id": "ZqVl7RpBtOZ2",
        "outputId": "74c2731e-19f5-48b7-8a4d-39824cedc555"
      },
      "execution_count": null,
      "outputs": [
        {
          "output_type": "stream",
          "name": "stdout",
          "text": [
            "請輸入八位數:\n",
            "76543210\n",
            "第五個數字： 3\n"
          ]
        }
      ]
    },
    {
      "cell_type": "code",
      "source": [
        "a='My ID is B1202036'\n",
        "a=a.split()\n",
        "print(len(a), 'words')\n",
        "id = a[-1]\n",
        "print(len(id), 'elements')"
      ],
      "metadata": {
        "colab": {
          "base_uri": "https://localhost:8080/"
        },
        "id": "46w-DNHmtlZy",
        "outputId": "ac571e3c-25c9-4b17-aae7-51e2ec17f878"
      },
      "execution_count": null,
      "outputs": [
        {
          "output_type": "stream",
          "name": "stdout",
          "text": [
            "4 words\n",
            "8 elements\n"
          ]
        }
      ]
    },
    {
      "cell_type": "code",
      "source": [
        "a='I\\'m a student'\n",
        "a=a.split()\n",
        "print(a[0][2])"
      ],
      "metadata": {
        "colab": {
          "base_uri": "https://localhost:8080/"
        },
        "id": "7J3m04KDvHuq",
        "outputId": "82d4fe49-0229-43b1-e433-0a963509e630"
      },
      "execution_count": 22,
      "outputs": [
        {
          "output_type": "stream",
          "name": "stdout",
          "text": [
            "m\n"
          ]
        }
      ]
    }
  ]
}