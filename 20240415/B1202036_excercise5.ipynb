{
  "nbformat": 4,
  "nbformat_minor": 0,
  "metadata": {
    "colab": {
      "provenance": []
    },
    "kernelspec": {
      "name": "python3",
      "display_name": "Python 3"
    },
    "language_info": {
      "name": "python"
    }
  },
  "cells": [
    {
      "cell_type": "code",
      "source": [
        "import numpy as np\n",
        "for i in range(1,10):\n",
        "  for j in range(1,10):\n",
        "    print(f'{i} x {j} =',end=' ')\n",
        "    print(i*j,end='\\t')\n",
        "  print('\\n')\n"
      ],
      "metadata": {
        "colab": {
          "base_uri": "https://localhost:8080/"
        },
        "id": "DOHFHH8Ky9nB",
        "outputId": "5caeafbc-509c-4c81-d238-c1eb3627e18e"
      },
      "execution_count": 7,
      "outputs": [
        {
          "output_type": "stream",
          "name": "stdout",
          "text": [
            "1 X 1  =  1\t1 X 2  =  2\t1 X 3  =  3\t1 X 4  =  4\t1 X 5  =  5\t1 X 6  =  6\t1 X 7  =  7\t1 X 8  =  8\t1 X 9  =  9\t\n",
            "\n",
            "2 X 1  =  2\t2 X 2  =  4\t2 X 3  =  6\t2 X 4  =  8\t2 X 5  =  10\t2 X 6  =  12\t2 X 7  =  14\t2 X 8  =  16\t2 X 9  =  18\t\n",
            "\n",
            "3 X 1  =  3\t3 X 2  =  6\t3 X 3  =  9\t3 X 4  =  12\t3 X 5  =  15\t3 X 6  =  18\t3 X 7  =  21\t3 X 8  =  24\t3 X 9  =  27\t\n",
            "\n",
            "4 X 1  =  4\t4 X 2  =  8\t4 X 3  =  12\t4 X 4  =  16\t4 X 5  =  20\t4 X 6  =  24\t4 X 7  =  28\t4 X 8  =  32\t4 X 9  =  36\t\n",
            "\n",
            "5 X 1  =  5\t5 X 2  =  10\t5 X 3  =  15\t5 X 4  =  20\t5 X 5  =  25\t5 X 6  =  30\t5 X 7  =  35\t5 X 8  =  40\t5 X 9  =  45\t\n",
            "\n",
            "6 X 1  =  6\t6 X 2  =  12\t6 X 3  =  18\t6 X 4  =  24\t6 X 5  =  30\t6 X 6  =  36\t6 X 7  =  42\t6 X 8  =  48\t6 X 9  =  54\t\n",
            "\n",
            "7 X 1  =  7\t7 X 2  =  14\t7 X 3  =  21\t7 X 4  =  28\t7 X 5  =  35\t7 X 6  =  42\t7 X 7  =  49\t7 X 8  =  56\t7 X 9  =  63\t\n",
            "\n",
            "8 X 1  =  8\t8 X 2  =  16\t8 X 3  =  24\t8 X 4  =  32\t8 X 5  =  40\t8 X 6  =  48\t8 X 7  =  56\t8 X 8  =  64\t8 X 9  =  72\t\n",
            "\n",
            "9 X 1  =  9\t9 X 2  =  18\t9 X 3  =  27\t9 X 4  =  36\t9 X 5  =  45\t9 X 6  =  54\t9 X 7  =  63\t9 X 8  =  72\t9 X 9  =  81\t\n",
            "\n"
          ]
        }
      ]
    },
    {
      "cell_type": "code",
      "source": [
        "\n",
        "def christmas_tree(rows):\n",
        "    for i in range(rows):\n",
        "        print(' ' * (rows - i - 1) + '*' * (2 * i + 1))\n",
        "\n",
        "\n",
        "christmas_tree(9)\n",
        "c='***'\n",
        "d=f'{c:^17}'\n",
        "for i in range(5):\n",
        "  print(d)"
      ],
      "metadata": {
        "colab": {
          "base_uri": "https://localhost:8080/"
        },
        "id": "iY4eDdPCxylI",
        "outputId": "6be46349-6023-438d-c8a2-25dae0645e7c"
      },
      "execution_count": 37,
      "outputs": [
        {
          "output_type": "stream",
          "name": "stdout",
          "text": [
            "        *\n",
            "       ***\n",
            "      *****\n",
            "     *******\n",
            "    *********\n",
            "   ***********\n",
            "  *************\n",
            " ***************\n",
            "*****************\n",
            "       ***       \n",
            "       ***       \n",
            "       ***       \n",
            "       ***       \n",
            "       ***       \n"
          ]
        }
      ]
    }
  ]
}